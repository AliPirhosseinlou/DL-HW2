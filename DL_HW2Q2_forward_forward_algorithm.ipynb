{
  "nbformat": 4,
  "nbformat_minor": 0,
  "metadata": {
    "colab": {
      "provenance": [],
      "gpuType": "T4"
    },
    "kernelspec": {
      "name": "python3",
      "display_name": "Python 3"
    },
    "language_info": {
      "name": "python"
    },
    "accelerator": "GPU"
  },
  "cells": [
    {
      "cell_type": "markdown",
      "source": [
        "# In the name of God"
      ],
      "metadata": {
        "id": "gOYv-tYHBC4r"
      }
    },
    {
      "cell_type": "markdown",
      "source": [
        "# Prepare libraries"
      ],
      "metadata": {
        "id": "7GOyFyEICB4M"
      }
    },
    {
      "cell_type": "code",
      "source": [
        "import numpy as np\n",
        "import random\n",
        "import torch\n",
        "import torch.nn as nn\n",
        "import torch.optim as optim\n",
        "from torchvision import datasets, transforms\n",
        "from torch.utils.data import DataLoader\n",
        "from torchvision.transforms import Compose, ToTensor, Normalize, Lambda\n"
      ],
      "metadata": {
        "id": "RXkdqAADCBWc"
      },
      "execution_count": null,
      "outputs": []
    },
    {
      "cell_type": "markdown",
      "source": [
        "# Supervised"
      ],
      "metadata": {
        "id": "eOR2jpDRD6cr"
      }
    },
    {
      "cell_type": "markdown",
      "source": [
        "<div dir=rtl>\n",
        "\n",
        "## آ ) لود کردن دیتاست"
      ],
      "metadata": {
        "id": "soOLI5zXBZJz"
      }
    },
    {
      "cell_type": "code",
      "execution_count": null,
      "metadata": {
        "id": "j0itaL310ttp",
        "colab": {
          "base_uri": "https://localhost:8080/"
        },
        "outputId": "de207fe2-f82c-4712-9fb1-829ca62f1c8b"
      },
      "outputs": [
        {
          "output_type": "stream",
          "name": "stdout",
          "text": [
            "Downloading http://yann.lecun.com/exdb/mnist/train-images-idx3-ubyte.gz\n",
            "Downloading http://yann.lecun.com/exdb/mnist/train-images-idx3-ubyte.gz to ./data/MNIST/raw/train-images-idx3-ubyte.gz\n"
          ]
        },
        {
          "output_type": "stream",
          "name": "stderr",
          "text": [
            "100%|██████████| 9912422/9912422 [00:00<00:00, 70082093.25it/s]\n"
          ]
        },
        {
          "output_type": "stream",
          "name": "stdout",
          "text": [
            "Extracting ./data/MNIST/raw/train-images-idx3-ubyte.gz to ./data/MNIST/raw\n",
            "\n",
            "Downloading http://yann.lecun.com/exdb/mnist/train-labels-idx1-ubyte.gz\n",
            "Downloading http://yann.lecun.com/exdb/mnist/train-labels-idx1-ubyte.gz to ./data/MNIST/raw/train-labels-idx1-ubyte.gz\n"
          ]
        },
        {
          "output_type": "stream",
          "name": "stderr",
          "text": [
            "100%|██████████| 28881/28881 [00:00<00:00, 102138021.77it/s]\n"
          ]
        },
        {
          "output_type": "stream",
          "name": "stdout",
          "text": [
            "Extracting ./data/MNIST/raw/train-labels-idx1-ubyte.gz to ./data/MNIST/raw\n",
            "\n",
            "Downloading http://yann.lecun.com/exdb/mnist/t10k-images-idx3-ubyte.gz\n",
            "Downloading http://yann.lecun.com/exdb/mnist/t10k-images-idx3-ubyte.gz to ./data/MNIST/raw/t10k-images-idx3-ubyte.gz\n"
          ]
        },
        {
          "output_type": "stream",
          "name": "stderr",
          "text": [
            "100%|██████████| 1648877/1648877 [00:00<00:00, 81121971.03it/s]"
          ]
        },
        {
          "output_type": "stream",
          "name": "stdout",
          "text": [
            "Extracting ./data/MNIST/raw/t10k-images-idx3-ubyte.gz to ./data/MNIST/raw\n"
          ]
        },
        {
          "output_type": "stream",
          "name": "stderr",
          "text": [
            "\n"
          ]
        },
        {
          "output_type": "stream",
          "name": "stdout",
          "text": [
            "\n",
            "Downloading http://yann.lecun.com/exdb/mnist/t10k-labels-idx1-ubyte.gz\n",
            "Downloading http://yann.lecun.com/exdb/mnist/t10k-labels-idx1-ubyte.gz to ./data/MNIST/raw/t10k-labels-idx1-ubyte.gz\n"
          ]
        },
        {
          "output_type": "stream",
          "name": "stderr",
          "text": [
            "100%|██████████| 4542/4542 [00:00<00:00, 19639720.38it/s]\n"
          ]
        },
        {
          "output_type": "stream",
          "name": "stdout",
          "text": [
            "Extracting ./data/MNIST/raw/t10k-labels-idx1-ubyte.gz to ./data/MNIST/raw\n",
            "\n"
          ]
        }
      ],
      "source": [
        "\n",
        "transform = transforms.Compose([\n",
        "    transforms.ToTensor(),\n",
        "    transforms.Normalize(mean=(0.1,), std=(0.2,)),\n",
        "    transforms.Lambda(lambda x: x.view(-1))\n",
        "])\n",
        "train_dataset = datasets.MNIST('./data', train=True, download=True, transform=transform)\n",
        "test_dataset = datasets.MNIST('./data', train=False, download=True, transform=transform)\n",
        "train_loader = DataLoader(dataset=train_dataset, batch_size=60000, shuffle=True)\n",
        "test_loader = DataLoader(dataset=test_dataset, batch_size=10000, shuffle=False)"
      ]
    },
    {
      "cell_type": "markdown",
      "source": [
        "<div dir=rtl>\n",
        "\n",
        "## ب ) تولید داده"
      ],
      "metadata": {
        "id": "hyzpDWhSIChG"
      }
    },
    {
      "cell_type": "code",
      "source": [
        "def label_on_image(data, labels):\n",
        "    labeled = torch.clone(data)\n",
        "    labeled[:, :10] = 0.0\n",
        "    max_vals = torch.max(data, dim=1).values\n",
        "    labeled[torch.arange(data.size(0)), labels] = max_vals\n",
        "    return labeled\n",
        "images, labels = next(iter(train_loader))\n",
        "images, labels = images.cuda(), labels.cuda()\n",
        "\n",
        "pos_labeled_t = label_on_image(images, labels)\n",
        "rnd_indices = torch.randperm(images.size(0))\n",
        "neg_labeled_t = label_on_image(images, labels[rnd_indices])"
      ],
      "metadata": {
        "id": "fueY8BdNv4SE"
      },
      "execution_count": null,
      "outputs": []
    },
    {
      "cell_type": "code",
      "source": [
        "import matplotlib.pyplot as plt\n",
        "\n",
        "x= pos_labeled_t[600]\n",
        "x=x.cpu()\n",
        "x=x.reshape([28,28])\n",
        "img = x.squeeze().numpy()\n",
        "plt.imshow(img, cmap='gray')\n",
        "plt.title('Example of Positive Image')\n",
        "plt.axis('off')\n",
        "plt.show()\n",
        "\n",
        "x_neg=neg_labeled_t[600]\n",
        "x_neg=x_neg.cpu()\n",
        "x_neg=x_neg.reshape([28,28])\n",
        "img = x_neg.squeeze().numpy()\n",
        "plt.imshow(img, cmap='gray')\n",
        "plt.title('Example of Negative Image')\n",
        "plt.axis('off')\n",
        "plt.show()"
      ],
      "metadata": {
        "id": "ML8EELVoxxJL",
        "colab": {
          "base_uri": "https://localhost:8080/",
          "height": 839
        },
        "outputId": "edf53b2f-b5e1-46fc-90c2-92a2c6bbc5ce"
      },
      "execution_count": null,
      "outputs": [
        {
          "output_type": "display_data",
          "data": {
            "text/plain": [
              "<Figure size 640x480 with 1 Axes>"
            ],
            "image/png": "[encoded data removed]"
          },
          "metadata": {}
        },
        {
          "output_type": "display_data",
          "data": {
            "text/plain": [
              "<Figure size 640x480 with 1 Axes>"
            ],
            "image/png": "[encoded data removed]"
          },
          "metadata": {}
        }
      ]
    },
    {
      "cell_type": "markdown",
      "source": [
        "<div dir=rtl>\n",
        "\n",
        "## ج ) پیاده سازی شبکه"
      ],
      "metadata": {
        "id": "TLOwwLYSX0wB"
      }
    },
    {
      "cell_type": "code",
      "source": [
        "class Layer(nn.Module):\n",
        "    def __init__(self, input_size, output_size, use_bias=True):\n",
        "        super(Layer, self).__init__()\n",
        "        self.threshold = 2.0\n",
        "        self.training_epochs = 3000\n",
        "        self.linear_transformation = nn.Linear(input_size, output_size, bias=use_bias)\n",
        "        self.optimizer = optim.Adam(self.parameters(), lr=0.06)\n",
        "        self.activation = nn.ReLU()\n",
        "\n",
        "    def forward(self, input_data):\n",
        "        normalized_input = input_data / (input_data.norm(2, dim=1, keepdim=True) + 1e-4)\n",
        "        return self.activation(\n",
        "            torch.mm(normalized_input, self.linear_transformation.weight.T) + self.linear_transformation.bias.unsqueeze(0)\n",
        "        )\n",
        "\n",
        "    def train(self, positive_data, negative_data):\n",
        "        for epoch in range(self.training_epochs):\n",
        "            goodness_pos = self.forward(positive_data).pow(2).mean(1)\n",
        "            goodness_neg = self.forward(negative_data).pow(2).mean(1)\n",
        "\n",
        "            loss = torch.log(1 + torch.exp(\n",
        "                torch.cat([-goodness_pos + self.threshold, goodness_neg - self.threshold]))\n",
        "            ).mean()\n",
        "\n",
        "            self.optimizer.zero_grad()\n",
        "            loss.backward()\n",
        "            self.optimizer.step()\n",
        "            if epoch % 300 ==0:\n",
        "\n",
        "                print(f\"Epoch [{epoch}/{self.training_epochs}] Loss: {loss.item()}\")\n",
        "\n",
        "        return self.forward(positive_data).detach(), self.forward(negative_data).detach()"
      ],
      "metadata": {
        "id": "jlQlbBRkaQz-"
      },
      "execution_count": null,
      "outputs": []
    },
    {
      "cell_type": "markdown",
      "source": [
        "<div dir=rtl>\n",
        "\n",
        "## د ) آموزش شبکه و گزارش نتایج"
      ],
      "metadata": {
        "id": "ylA93dFbcazc"
      }
    },
    {
      "cell_type": "code",
      "source": [
        "torch.manual_seed(1234)\n",
        "dims = [784, 550, 300]\n",
        "net_layers = []\n",
        "N = len(dims) - 1\n",
        "\n",
        "for i in range(N):\n",
        "    net_layers.append(Layer(dims[i], dims[i + 1]).cuda())\n",
        "\n",
        "pos_labeled=pos_labeled_t\n",
        "neg_labeled=neg_labeled_t\n",
        "\n",
        "for i,layer in enumerate(net_layers):\n",
        "    pos_labeled, neg_labeled = layer.train(pos_labeled, neg_labeled)\n",
        "    print('training layer', i,)\n",
        "\n",
        "train_errors = []\n",
        "for lbl in range(10):\n",
        "    goodness = []\n",
        "    lbl_img = label_on_image(images, lbl)\n",
        "    for layer in net_layers:\n",
        "        lbl_img = layer(lbl_img)\n",
        "        goodness.append(lbl_img.pow(2).mean(1))\n",
        "    train_errors.append(sum(goodness).unsqueeze(1))\n",
        "train_errors = torch.cat(train_errors, 1)\n",
        "predicted_train_labels = train_errors.argmax(1)\n",
        "\n",
        "print('Train error:', 1.0 - predicted_train_labels.eq(labels).float().mean().item())\n",
        "\n",
        "test_images, test_labels = next(iter(test_loader))\n",
        "test_images, test_labels = test_images.cuda(), test_labels.cuda()\n",
        "\n",
        "test_errors = []\n",
        "for lbl in range(10):\n",
        "    goodness = []\n",
        "    lbl_img_test = label_on_image(test_images, lbl)\n",
        "    for layer in net_layers:\n",
        "        lbl_img_test = layer(lbl_img_test)\n",
        "        goodness.append(lbl_img_test.pow(2).mean(1))\n",
        "    test_errors.append(sum(goodness).unsqueeze(1))\n",
        "test_errors = torch.cat(test_errors, 1)\n",
        "predicted_test_labels = test_errors.argmax(1)\n",
        "print('Test error:', 1.0 - predicted_test_labels.eq(test_labels).float().mean().item())\n"
      ],
      "metadata": {
        "id": "pubxBU6dylNG",
        "colab": {
          "base_uri": "https://localhost:8080/"
        },
        "outputId": "be65d789-fce5-47c4-e824-3d8fed0c343a"
      },
      "execution_count": null,
      "outputs": [
        {
          "output_type": "stream",
          "name": "stdout",
          "text": [
            "Epoch [0/3000] Loss: 1.1267706155776978\n",
            "Epoch [300/3000] Loss: 0.4465562403202057\n",
            "Epoch [600/3000] Loss: 0.36124661564826965\n",
            "Epoch [900/3000] Loss: 0.3230915367603302\n",
            "Epoch [1200/3000] Loss: 0.29868900775909424\n",
            "Epoch [1500/3000] Loss: 0.2807803452014923\n",
            "Epoch [1800/3000] Loss: 0.2668926417827606\n",
            "Epoch [2100/3000] Loss: 0.2553298771381378\n",
            "Epoch [2400/3000] Loss: 0.24497714638710022\n",
            "Epoch [2700/3000] Loss: 0.23535799980163574\n",
            "training layer 0\n",
            "Epoch [0/3000] Loss: 1.1266586780548096\n",
            "Epoch [300/3000] Loss: 0.30157271027565\n",
            "Epoch [600/3000] Loss: 0.2858760356903076\n",
            "Epoch [900/3000] Loss: 0.2766282856464386\n",
            "Epoch [1200/3000] Loss: 0.2691710293292999\n",
            "Epoch [1500/3000] Loss: 0.2624545097351074\n",
            "Epoch [1800/3000] Loss: 0.2559850811958313\n",
            "Epoch [2100/3000] Loss: 0.24986377358436584\n",
            "Epoch [2400/3000] Loss: 0.24392102658748627\n",
            "Epoch [2700/3000] Loss: 0.2381117194890976\n",
            "training layer 1\n",
            "Train error: 0.026466667652130127\n",
            "Test error: 0.03750002384185791\n"
          ]
        }
      ]
    },
    {
      "cell_type": "markdown",
      "source": [
        "<div dir=rtl>\n",
        "ابتدا لیبل هر تصویر را در ده پیکسل ابتدایی آن به صورت one-hot قرار میدهیم\n",
        "حال کلاس layer را تعریف کرده که تنظیمات مورد نیاز آن جمله بهینه ساز را مطابق مطالب گفته شده در مقاله قرار می دهیم\n",
        "سپس تابع فوروارد را در این کلاس تعریف میکنیم که از تابع ReLu وترکیب خطی ورودی استفاده می کند.\n",
        "سپس خروجی این فوروارد را به عنوان goodness تعریف میکنیم.\n",
        "در مورد سوال پرسیده شد برای تابع لاس میتوان بیان کرد که هر چقدر goodnessبرای تصاویر مثبت بیشتر باشد مقدار loss کاهش میابد و برای تصاویر منفی برعکس\n",
        "\n",
        "این پیاده سازی با کمک https://github.com/mpezeshki/pytorch_forward_forward انجام شده است.\n",
        "البته خطای ما با تغییراتی که داده ایم نصف ایشان است."
      ],
      "metadata": {
        "id": "HEJo855BjnVZ"
      }
    }
  ]
}